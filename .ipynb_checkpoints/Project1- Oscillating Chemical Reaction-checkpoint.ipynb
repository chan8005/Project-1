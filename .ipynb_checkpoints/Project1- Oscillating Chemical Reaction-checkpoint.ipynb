{
 "cells": [
  {
   "cell_type": "code",
   "execution_count": 21,
   "metadata": {},
   "outputs": [
    {
     "ename": "KeyboardInterrupt",
     "evalue": "",
     "output_type": "error",
     "traceback": [
      "\u001b[1;31m---------------------------------------------------------------------------\u001b[0m",
      "\u001b[1;31mKeyboardInterrupt\u001b[0m                         Traceback (most recent call last)",
      "\u001b[1;32m<ipython-input-21-bd382aedf664>\u001b[0m in \u001b[0;36m<module>\u001b[1;34m()\u001b[0m\n\u001b[0;32m     38\u001b[0m \u001b[1;32mwhile\u001b[0m \u001b[0merror\u001b[0m \u001b[1;33m>\u001b[0m \u001b[0mtolerance\u001b[0m \u001b[1;32mor\u001b[0m \u001b[0mN\u001b[0m\u001b[1;33m<\u001b[0m\u001b[1;33m(\u001b[0m\u001b[1;36m2\u001b[0m\u001b[1;33m**\u001b[0m\u001b[1;36m10\u001b[0m\u001b[1;33m)\u001b[0m\u001b[1;33m:\u001b[0m\u001b[1;33m\u001b[0m\u001b[0m\n\u001b[0;32m     39\u001b[0m     \u001b[0mN\u001b[0m \u001b[1;33m=\u001b[0m \u001b[1;36m100\u001b[0m          \u001b[1;31m# number of steps to take between start and end time\u001b[0m\u001b[1;33m\u001b[0m\u001b[0m\n\u001b[1;32m---> 40\u001b[1;33m     \u001b[0mh\u001b[0m\u001b[1;33m=\u001b[0m \u001b[1;33m(\u001b[0m\u001b[0mt_final\u001b[0m \u001b[1;33m-\u001b[0m \u001b[0mt_init\u001b[0m\u001b[1;33m)\u001b[0m\u001b[1;33m/\u001b[0m\u001b[0mN\u001b[0m  \u001b[1;31m#delta t\u001b[0m\u001b[1;33m\u001b[0m\u001b[0m\n\u001b[0m\u001b[0;32m     41\u001b[0m \u001b[1;33m\u001b[0m\u001b[0m\n\u001b[0;32m     42\u001b[0m     \u001b[1;32mfor\u001b[0m \u001b[0mt\u001b[0m \u001b[1;32min\u001b[0m \u001b[0mtpoints\u001b[0m\u001b[1;33m:\u001b[0m            \u001b[1;31m# for every given time...\u001b[0m\u001b[1;33m\u001b[0m\u001b[0m\n",
      "\u001b[1;31mKeyboardInterrupt\u001b[0m: "
     ]
    }
   ],
   "source": [
    "import matplotlib.pylab as plt\n",
    "import numpy as np\n",
    "\n",
    "#initial conditions and constants\n",
    "x = 0              # initial concentration of chemical x\n",
    "y = 0              #initial concentration of chemical y\n",
    "a= 1               # constant\n",
    "b= 3\n",
    "\n",
    "t_init = 0          # inital time\n",
    "t_final = 50       # time to end data collection\n",
    "\n",
    "\n",
    "def dx(x,y,a,b):\n",
    "    \"\"\"Calculates rate of change of chemical x at a given time.\n",
    "    x= concentration of chemical x at given time\n",
    "    y= concentration of chemical y at given time\n",
    "    a= positive constant\n",
    "    b= positive constant\"\"\"\n",
    "    return 1-(b+1)*x + a*y*x**2\n",
    "\n",
    "def dy(x,y,a,b):\n",
    "    \"\"\"Calculates rate of change of chemical y at a given time\n",
    "    x= concentration of chemical x at given time\n",
    "    y= concentration of chemical y at given time\n",
    "    a= positive constant\n",
    "    b= positive constant\"\"\"\n",
    "    return b*x - a*y*x**2\n",
    "\n",
    "tpoints = np.arange(t_init,t_final,h)       #array for time that goes from initial time to final time in increments of h\n",
    "xarray=[]                     #empty list for [x] at given time\n",
    "yarray=[]                     # empty list for [y] at given time\n",
    "\n",
    "\n",
    "tolerance = 10**-10\n",
    "error = 2*tolerance\n",
    "\n",
    "while error > tolerance or N<(2**10):\n",
    "    N = 100          # number of steps to take between start and end time\n",
    "    h= (t_final - t_init)/N  #delta t\n",
    "\n",
    "    for t in tpoints:            # for every given time...\n",
    "        xarray.append(x)          # appending [x], first one is the initial [], the next one will be calculated later in loop\n",
    "        yarray.append(y)            # appending the initial [y]\n",
    "        newx= h* dx(x,y,a,b)         # calculates the next component of [x] by multiplying rate of change of [x] times delta t \n",
    "        newy = h* dy(x,y,a,b)        # calculates the next component of [y] by multiplying rate of change of [y] times delta t \n",
    "        x += newx   # adds calculated components to the old [x] to calculate the new [x] which will be added to array when loop restarts\n",
    "        y += newy   # adds calculated components to the old [x] to calculate the new [x] which will be added to array when loop restarts\n",
    "    error= .5*h*(dx(x,20, a,b)-dx(0,0,a,b))  #NOT SURE HOW TO DO ERROR WITH TWO EQUATIONS, DO I DO ONE FOR BOTH?\n",
    "    N *= 2\n",
    "    \n",
    "plt.plot(tpoints,xarray,\".\", label= \"[x]\")\n",
    "plt.plot(tpoints,yarray,\".\",label= \"[y]\")\n",
    "plt.ylabel(\"Concentration\")\n",
    "plt.xlabel(\"time\")\n",
    "plt.title(\"Concentrations of Chemical x and y vs time\")\n",
    "\n",
    "legend = plt.legend(loc='upper right', shadow=True)\n",
    "plt.show()\n",
    "    \n",
    "    "
   ]
  },
  {
   "cell_type": "code",
   "execution_count": null,
   "metadata": {
    "collapsed": true
   },
   "outputs": [],
   "source": []
  }
 ],
 "metadata": {
  "kernelspec": {
   "display_name": "Python 3",
   "language": "python",
   "name": "python3"
  },
  "language_info": {
   "codemirror_mode": {
    "name": "ipython",
    "version": 3
   },
   "file_extension": ".py",
   "mimetype": "text/x-python",
   "name": "python",
   "nbconvert_exporter": "python",
   "pygments_lexer": "ipython3",
   "version": "3.6.3"
  }
 },
 "nbformat": 4,
 "nbformat_minor": 2
}
